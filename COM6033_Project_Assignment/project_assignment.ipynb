{
 "cells": [
  {
   "cell_type": "markdown",
   "id": "acd58eab-bcde-41d0-9500-513def91dee9",
   "metadata": {},
   "source": [
    "This project aims to develop a machine learning algorithm that is capable of classifying images of the Magpie and Crow birds. The alorithm aims to distinguish the physical differences between the two species of birds.\n",
    "\n",
    "At the moment of creating this document I have gathered roughly 250 images of each species of bird, each image is 32x32 pixels. In the future I will work on adding more to the list."
   ]
  },
  {
   "cell_type": "code",
   "execution_count": 10,
   "id": "520b8a74-d0a5-4482-a6b2-540717c43725",
   "metadata": {},
   "outputs": [
    {
     "name": "stdout",
     "output_type": "stream",
     "text": [
      "                 filename  label\n",
      "0    crows\\03c7cea31f.jpg  crows\n",
      "1    crows\\06a9c44c55.jpg  crows\n",
      "2  crows\\06G1CJJML5QT.jpg  crows\n",
      "3    crows\\08a181b048.jpg  crows\n",
      "4    crows\\08d39d0f4d.jpg  crows\n"
     ]
    }
   ],
   "source": [
    "import pandas as pd\n",
    "#Load dataset from the path\n",
    "csf_file_path =r\"Images\\dataset.csv\"\n",
    "\n",
    "df = pd.read_csv(csf_file_path)\n",
    "\n",
    "#Displays the head\n",
    "print(df.head())"
   ]
  },
  {
   "cell_type": "code",
   "execution_count": 14,
   "id": "f1f41d41-a46f-4e8d-8d09-a2dcb1cbc617",
   "metadata": {},
   "outputs": [
    {
     "name": "stdout",
     "output_type": "stream",
     "text": [
      "(493, 2)\n"
     ]
    }
   ],
   "source": [
    "#Shaping the dataset, result shows 493 rows and 2 columns\n",
    "print(df.shape)"
   ]
  },
  {
   "cell_type": "code",
   "execution_count": 15,
   "id": "816ce822-56f2-4255-998d-8c9a67d68435",
   "metadata": {},
   "outputs": [
    {
     "name": "stdout",
     "output_type": "stream",
     "text": [
      "<bound method NDFrame.describe of                      filename    label\n",
      "0        crows\\03c7cea31f.jpg    crows\n",
      "1        crows\\06a9c44c55.jpg    crows\n",
      "2      crows\\06G1CJJML5QT.jpg    crows\n",
      "3        crows\\08a181b048.jpg    crows\n",
      "4        crows\\08d39d0f4d.jpg    crows\n",
      "..                        ...      ...\n",
      "488  magpies\\ZTIL3BSTB7S8.jpg  magpies\n",
      "489  magpies\\ZTLZN8INGMLF.jpg  magpies\n",
      "490  magpies\\ZWTIKNDZ3YOY.jpg  magpies\n",
      "491  magpies\\ZX4KEVCHKBM3.jpg  magpies\n",
      "492  magpies\\ZX9VCYL1S3WH.jpg  magpies\n",
      "\n",
      "[493 rows x 2 columns]>\n"
     ]
    }
   ],
   "source": [
    "print(df.describe)"
   ]
  },
  {
   "cell_type": "code",
   "execution_count": 18,
   "id": "cf785f60-03eb-4478-a035-c904b4b08f07",
   "metadata": {},
   "outputs": [
    {
     "name": "stdout",
     "output_type": "stream",
     "text": [
      "filename    0\n",
      "label       0\n",
      "dtype: int64\n"
     ]
    }
   ],
   "source": [
    "#Searching for NaN values in the dataset\n",
    "print(df.isnull().sum())"
   ]
  },
  {
   "cell_type": "code",
   "execution_count": 19,
   "id": "6361f057-b611-453b-bf3a-8bb957802f91",
   "metadata": {},
   "outputs": [
    {
     "name": "stdout",
     "output_type": "stream",
     "text": [
      "Index(['filename', 'label'], dtype='object')\n"
     ]
    }
   ],
   "source": [
    "#Column names\n",
    "print(df.columns)"
   ]
  },
  {
   "cell_type": "code",
   "execution_count": null,
   "id": "4949c874-e413-498d-a2b6-8c37cd230962",
   "metadata": {},
   "outputs": [],
   "source": []
  }
 ],
 "metadata": {
  "kernelspec": {
   "display_name": "Python 3 (ipykernel)",
   "language": "python",
   "name": "python3"
  },
  "language_info": {
   "codemirror_mode": {
    "name": "ipython",
    "version": 3
   },
   "file_extension": ".py",
   "mimetype": "text/x-python",
   "name": "python",
   "nbconvert_exporter": "python",
   "pygments_lexer": "ipython3",
   "version": "3.9.13"
  }
 },
 "nbformat": 4,
 "nbformat_minor": 5
}
